{
 "cells": [
  {
   "cell_type": "code",
   "execution_count": 42,
   "id": "6e87477f-95c1-45f7-80fc-d407a6a39b06",
   "metadata": {
    "tags": []
   },
   "outputs": [],
   "source": [
    "import numpy as np\n",
    "import seaborn as sns\n",
    "import pandas as pd"
   ]
  },
  {
   "cell_type": "markdown",
   "id": "8862c05b-f95c-4a58-83d9-4d6197d9d4ed",
   "metadata": {
    "tags": []
   },
   "source": [
    "## Excersize 04"
   ]
  },
  {
   "cell_type": "markdown",
   "id": "081ac8a1-def2-4201-b922-1e72e8b2be5e",
   "metadata": {
    "tags": []
   },
   "source": [
    "### Q1\n",
    "\n",
    "The formula for the Tailor series is:  \n",
    "$$f(x)=\\sum_{k=0}^\\infty f^{(k)}(a)\\frac{(x-a)^k}{k!}$$\n",
    "\n",
    "The Tailor expansion of $\\sin(x)$ about $0$ is:\n",
    "\n",
    "$$f(x)=\\sum_{k=0}^\\infty f^{(k)}(a)\\frac{(x)^k}{k!}$$\n"
   ]
  },
  {
   "cell_type": "code",
   "execution_count": 16,
   "id": "36ec3e41-0064-433b-a587-de57e7e86736",
   "metadata": {
    "tags": []
   },
   "outputs": [],
   "source": [
    "from math import factorial, sin\n",
    "\n",
    "def Sin_TailorExpansion(x: float, maximumOrder: int = 5) -> float:\n",
    "    \"\"\"\n",
    "    Calculate Tailor expansion for sin(x) for small values of x.\n",
    "    \n",
    "    x\n",
    "       Value to compute in Tailor expansion\n",
    "    maximumOrder\n",
    "       Maximum order of Tailor expansion\n",
    "    \"\"\"\n",
    "    value = 0\n",
    "    # Each iteration of this is 2n orders of Tailor expansion\n",
    "    for order in range(maximumOrder // 2):\n",
    "        value = value + ((-1)**order * (x)**(2*order+1)) / factorial(2*order+1)\n",
    "    return value"
   ]
  },
  {
   "cell_type": "code",
   "execution_count": 17,
   "id": "ac34492e-152e-4704-bb29-4b5f80264da8",
   "metadata": {
    "tags": []
   },
   "outputs": [
    {
     "name": "stdout",
     "output_type": "stream",
     "text": [
      "0.09983333333333334\n"
     ]
    }
   ],
   "source": [
    "Q1value = 0.1\n",
    "Q1order = 5\n",
    "Q1result = Sin_TailorExpansion(Q1value, Q1order)\n",
    "print(Q1result)"
   ]
  },
  {
   "cell_type": "markdown",
   "id": "3a64b68b-30f5-42a5-8055-b6f27fa59c0a",
   "metadata": {},
   "source": [
    "### Q3"
   ]
  },
  {
   "cell_type": "code",
   "execution_count": 19,
   "id": "11b6773e-f56a-459f-9122-46d49bc8a654",
   "metadata": {
    "tags": []
   },
   "outputs": [
    {
     "name": "stdout",
     "output_type": "stream",
     "text": [
      "The value of sin(0.1 approximated using Tailor Expansion to 5 is 0.09983\n",
      "This is accurate to 0.00008%\n"
     ]
    }
   ],
   "source": [
    "print(f\"The value of sin({Q1value} approximated using Tailor Expansion to {Q1order} is {Q1result:.5f}\")\n",
    "print(f\"This is accurate to {(sin(0.1)/Q1result-1)*100:.05f}%\")"
   ]
  },
  {
   "cell_type": "markdown",
   "id": "7a98af18-0d51-43e1-977e-e873afaca46a",
   "metadata": {},
   "source": [
    "### Q4\n",
    "Firstly my niave prime sieve implementation"
   ]
  },
  {
   "cell_type": "code",
   "execution_count": 94,
   "id": "2780afa2-4072-423a-9cb7-0812fc92cdf6",
   "metadata": {
    "tags": []
   },
   "outputs": [],
   "source": [
    "from itertools import compress\n",
    "\n",
    "def PrimeSieve(limit):\n",
    "    \"\"\"\n",
    "    Prime sieve to find prime numbers\n",
    "    \n",
    "    Inputs:\n",
    "    \n",
    "    limit \n",
    "        Inclusive limit to search for primes\n",
    "    \n",
    "    Outputs:\n",
    "    \n",
    "    List \n",
    "        Prime numbers found under the limit\n",
    "    \"\"\"\n",
    "    if limit<2:\n",
    "        return []\n",
    "    numbers = [False]*2 + [True]*(limit-1)\n",
    "    \n",
    "    for number, isPrime in enumerate(numbers):\n",
    "        if isPrime:\n",
    "            prime = number\n",
    "            numbers[prime*2::prime] = [False]*len(numbers[prime*2::prime])\n",
    "    \n",
    "    return list(compress(np.arange(0,len(numbers)), numbers))"
   ]
  },
  {
   "cell_type": "code",
   "execution_count": 97,
   "id": "49e351ee-adae-4119-9ab5-7dfdd83c3e97",
   "metadata": {
    "tags": []
   },
   "outputs": [
    {
     "name": "stdout",
     "output_type": "stream",
     "text": [
      "[2, 3, 5, 7, 11, 13, 17, 19, 23, 29, 31, 37, 41, 43, 47, 53, 59, 61, 67, 71, 73, 79, 83, 89, 97]\n"
     ]
    }
   ],
   "source": [
    "print(PrimeSieve(100))"
   ]
  },
  {
   "cell_type": "markdown",
   "id": "06ff6128-5d42-4271-b38f-c87c5cc7e48b",
   "metadata": {},
   "source": [
    "### Q4"
   ]
  },
  {
   "cell_type": "code",
   "execution_count": 92,
   "id": "c63f73e1-fbc3-459a-9a37-4bfaec5eff36",
   "metadata": {
    "tags": []
   },
   "outputs": [],
   "source": [
    "def RecamanGenerator(limit: int) -> list[int]:\n",
    "    \"\"\"\n",
    "    Compute Recaman numbers up to a certain term.\n",
    "    \n",
    "    limit \n",
    "        Maximum term to compute of Recaman numbers.\n",
    "        \n",
    "    Output:\n",
    "    List\n",
    "        Recaman numbers up to term as defined in limit.\n",
    "    \"\"\"\n",
    "    \n",
    "    recamanSeries = [0]*limit\n",
    "    lastValue = 0\n",
    "    \n",
    "    for term in range(1, limit):\n",
    "        if lastValue-term > 0 and not(lastValue-term in recamanSeries):\n",
    "            lastValue -= term\n",
    "        else: \n",
    "            lastValue += term\n",
    "        recamanSeries[term] = lastValue\n",
    "    return recamanSeries"
   ]
  },
  {
   "cell_type": "code",
   "execution_count": 99,
   "id": "a7b15da5-ac1d-4e01-820f-b12aebaaab2d",
   "metadata": {
    "tags": []
   },
   "outputs": [
    {
     "name": "stdout",
     "output_type": "stream",
     "text": [
      "[0, 1, 3, 6, 2, 7, 13, 20, 12, 21]\n"
     ]
    }
   ],
   "source": [
    "print(RecamanGenerator(10))"
   ]
  },
  {
   "cell_type": "markdown",
   "id": "4a2c30e8-1c6d-42dd-b22b-7154f581eed8",
   "metadata": {},
   "source": [
    "### Q5"
   ]
  },
  {
   "cell_type": "code",
   "execution_count": 102,
   "id": "f873a154-6027-423c-a603-6c2ad24c8f67",
   "metadata": {
    "tags": []
   },
   "outputs": [],
   "source": [
    "def MatchingRecamanAndPrimes(limit):\n",
    "    \"\"\"\n",
    "    Compute list of numbers that match in the Recaman numbers and primes up to a limit\n",
    "    \n",
    "    Input:\n",
    "    \n",
    "    Limit \n",
    "        Maximum term to compare between prime and Recaman numbers\n",
    "        \n",
    "    Output:\n",
    "    \n",
    "    List\n",
    "        List of numbers that match between Recaman and prime numbers up to the limit\n",
    "    \"\"\"\n",
    "    recamanNumbers = RecamanGenerator(limit)\n",
    "    primeNumbers = PrimeSieve(limit)\n",
    "    return list(set(primeNumbers) & set(recamanNumbers))    "
   ]
  },
  {
   "cell_type": "code",
   "execution_count": 103,
   "id": "fc4c0e85-fe63-4abd-b256-44d6a95bff92",
   "metadata": {
    "tags": []
   },
   "outputs": [
    {
     "data": {
      "text/plain": [
       "[2, 3, 7]"
      ]
     },
     "execution_count": 103,
     "metadata": {},
     "output_type": "execute_result"
    }
   ],
   "source": [
    "MatchingRecamanAndPrimes(10)"
   ]
  },
  {
   "cell_type": "markdown",
   "id": "cac82866-c2ae-4e8d-bf92-38289120371d",
   "metadata": {},
   "source": [
    "### Q6"
   ]
  },
  {
   "cell_type": "code",
   "execution_count": 117,
   "id": "24b05a54-ccda-49cf-97be-bcc11cb0aae3",
   "metadata": {
    "tags": []
   },
   "outputs": [
    {
     "name": "stdout",
     "output_type": "stream",
     "text": [
      "8\n",
      "The prime factors of 64 are:\n",
      "[(2, 32), (4, 16), (8, 8)]\n"
     ]
    }
   ],
   "source": [
    "from math import floor \n",
    "\n",
    "valueToDecompose = 64\n",
    "\n",
    "maximumFactor = floor(valueToDecompose**0.5)\n",
    "pairs = [(lowFactor, valueToDecompose // lowFactor) for lowFactor in range(2, maximumFactor+1) if (valueToDecompose%lowFactor == 0)]\n",
    "\n",
    "print(f\"The prime factors of {valueToDecompose} are:\")\n",
    "print(f\"{pairs}\")"
   ]
  },
  {
   "cell_type": "markdown",
   "id": "99746f62-e33e-46ed-9524-91a1d8435a48",
   "metadata": {},
   "source": [
    "### Q7"
   ]
  },
  {
   "cell_type": "code",
   "execution_count": 134,
   "id": "c9a25473-012c-4bc5-b614-8fa8d043946c",
   "metadata": {
    "tags": []
   },
   "outputs": [],
   "source": [
    "from random import randint\n",
    "from random import seed as setSeed\n",
    "from os import urandom\n",
    "\n",
    "def RandomWalk(terminalValue: int, step: int = 1, seed = int.from_bytes(urandom(16), 'big')) -> list[int]:\n",
    "    \"\"\"\n",
    "    Generate a random walk \n",
    "    \n",
    "    Inputs:\n",
    "    \n",
    "    terminalValue\n",
    "        The displacement the generator terminates at\n",
    "    step\n",
    "        Unit of displacement per step\n",
    "    seed \n",
    "        Random seed used to generate the random walk. Set manually for consistency.\n",
    "    \"\"\"\n",
    "    \n",
    "    setSeed(seed)\n",
    "    pos = 0\n",
    "    \n",
    "    posHistory = [0]\n",
    "    while pos < terminalValue:\n",
    "        \n",
    "        if randint(0,1):\n",
    "            pos += step\n",
    "        else: \n",
    "            pos -= step\n",
    "            \n",
    "        posHistory.append(pos)\n",
    "        \n",
    "    return posHistory"
   ]
  },
  {
   "cell_type": "code",
   "execution_count": 138,
   "id": "f938347a-0515-4510-a2ec-d003155ac628",
   "metadata": {
    "tags": []
   },
   "outputs": [
    {
     "name": "stdout",
     "output_type": "stream",
     "text": [
      "It took 813 steps to reach a displacement of 10\n"
     ]
    }
   ],
   "source": [
    "terminalValue = 10\n",
    "seed = 42\n",
    "print(f\"It took {len(RandomWalk(terminalValue, seed=seed))} steps to reach a displacement of {terminalValue}\")"
   ]
  },
  {
   "cell_type": "markdown",
   "id": "81957ede-3a06-410a-ac29-cdc21fabdde1",
   "metadata": {},
   "source": [
    "## Excersize 5 "
   ]
  },
  {
   "cell_type": "markdown",
   "id": "b2a769d5-1f8b-452e-9876-fc2a985b25a6",
   "metadata": {},
   "source": [
    "### Q1 - NEED TO DO"
   ]
  },
  {
   "cell_type": "code",
   "execution_count": null,
   "id": "e0d94d02-58aa-4cda-8b7a-3ad5c0f792a7",
   "metadata": {},
   "outputs": [],
   "source": []
  },
  {
   "cell_type": "markdown",
   "id": "79d4a1ee-c6dc-477d-8d7b-30de03737efb",
   "metadata": {},
   "source": [
    "### Q2"
   ]
  },
  {
   "cell_type": "code",
   "execution_count": 166,
   "id": "7480e3c5-bc89-4e67-af5e-e38b7b7b2741",
   "metadata": {
    "tags": []
   },
   "outputs": [
    {
     "data": {
      "image/png": "[encoded data removed]",
      "text/plain": [
       "<Figure size 750x550 with 1 Axes>"
      ]
     },
     "metadata": {},
     "output_type": "display_data"
    }
   ],
   "source": [
    "import matplotlib.pyplot as plt\n",
    "\n",
    "plt.rcParams[\"figure.figsize\"] = [7.50, 5.50]\n",
    "\n",
    "fig, ax = plt.subplots()\n",
    "# fig.figsize(5, 5)\n",
    "plt.axis(\"equal\")\n",
    "\n",
    "ax.set(xlim=(-30, 30), ylim=(0, 25))\n",
    "\n",
    "rainbow = ['violet', 'indigo', 'blue', 'green', 'yellow', 'orange', 'red']+['white']*10\n",
    "\n",
    "for i in range(len(rainbow)):\n",
    "   c = plt.Circle((0, 0), \n",
    "                  len(rainbow)-i, \n",
    "                  fill=True, \n",
    "                  color=rainbow[i])\n",
    "   ax.add_artist(c)\n",
    "\n",
    "plt.show()"
   ]
  },
  {
   "cell_type": "markdown",
   "id": "eb675396-2a98-4ebd-a737-5c3c0306224f",
   "metadata": {
    "tags": []
   },
   "source": [
    "### Q3 - NEED TO DO"
   ]
  },
  {
   "cell_type": "code",
   "execution_count": null,
   "id": "5188da2f-8487-40d7-bdc7-3a501ea18bde",
   "metadata": {},
   "outputs": [],
   "source": []
  },
  {
   "cell_type": "markdown",
   "id": "2c5e8767-6503-4a9c-8150-4b3415aa0f8f",
   "metadata": {},
   "source": [
    "## Excersize 5"
   ]
  },
  {
   "cell_type": "code",
   "execution_count": 309,
   "id": "49266418-6bd5-4757-8676-8cd42474872b",
   "metadata": {
    "tags": []
   },
   "outputs": [],
   "source": [
    "from math import floor\n",
    "\n",
    "class Fraction():\n",
    "    def __init__(self, numerator: int, denominator: int):\n",
    "        self.sanitise(numerator, denominator)\n",
    "        \n",
    "        self.numerator = abs(numerator)\n",
    "        self.denominator = abs(denominator)\n",
    "        self.isPositive = True if ((numerator>0) and (denominator>0)) or ((numerator<0) and (denominator<0)) else False\n",
    "        \n",
    "        self.simplify()\n",
    "    \n",
    "    def sanitise(self, numerator, denominator):\n",
    "        if denominator == 0:\n",
    "            raise ZeroDivisionError\n",
    "    \n",
    "    def checkWholeNumber(self):\n",
    "        return (self.numerator % self.denominator == 0) or (self.numerator == 0)\n",
    "    \n",
    "    def simplify(self):\n",
    "        if self.checkWholeNumber():\n",
    "            self.numerator = self.numerator // self.denominator\n",
    "            self.denominator = 1\n",
    "        else:\n",
    "            self.numeratorFactors = self.factorise(self.numerator)\n",
    "            self.denominatorFactors = self.factorise(self.denominator)\n",
    "            \n",
    "            print(self.numeratorFactors)\n",
    "            print(self.denominatorFactors)\n",
    "            \n",
    "            # Intersection of the two lists of factors\n",
    "            commonFactors = list(set(self.numeratorFactors) & set(self.denominatorFactors))\n",
    "            \n",
    "            for i, factor in enumerate(commonFactors):\n",
    "\n",
    "                self.numerator = self.numerator // factor\n",
    "                del self.numeratorFactors[self.numeratorFactors.index(factor)]\n",
    "\n",
    "                self.denominator = self.denominator // factor\n",
    "                del self.denominatorFactors[self.denominatorFactors.index(factor)]\n",
    "        \n",
    "    def multiply(self, factor):\n",
    "        self.numerator *= factor\n",
    "        self.simplify()\n",
    "        return (self)\n",
    "    \n",
    "    def factorise(self, valueToDecompose):\n",
    "        factors = []\n",
    "        maximumFactor = floor(valueToDecompose**0.5)\n",
    "        \n",
    "        for lowFactor in range(2, maximumFactor+1):\n",
    "            if valueToDecompose % lowFactor == 0:\n",
    "                factors.append(lowFactor)\n",
    "                factors.append(valueToDecompose // lowFactor)\n",
    "                \n",
    "        return factors\n",
    "    \n",
    "    def __mul__(self, factor):\n",
    "        return self.multiply(factor)\n",
    "    def __rmul__(self, factor):\n",
    "        return self.multiply(factor)\n",
    "    def __str__(self):\n",
    "        if self.checkWholeNumber():\n",
    "            sign = (-1)**int(self.isPositive == False)\n",
    "            return str(sign * self.numerator)\n",
    "        else:\n",
    "            return f\"{'' if self.isPositive else '-'}{self.numerator}/{self.denominator}\""
   ]
  },
  {
   "cell_type": "code",
   "execution_count": 321,
   "id": "0805df00-2059-4eb1-83b4-6b6876d82514",
   "metadata": {
    "tags": []
   },
   "outputs": [
    {
     "name": "stdout",
     "output_type": "stream",
     "text": [
      "[]\n",
      "[2, 2]\n",
      "2/4\n"
     ]
    }
   ],
   "source": [
    "print(Fraction(2,4))"
   ]
  },
  {
   "cell_type": "code",
   "execution_count": 318,
   "id": "928dd513-72be-428e-9add-a17e0a9b7770",
   "metadata": {
    "tags": []
   },
   "outputs": [],
   "source": [
    "def FractionTests():\n",
    "        # expected = \n",
    "        # actual = \n",
    "        # assert expected == actual    \n",
    "    def test():\n",
    "        fractional_initial_values()\n",
    "        factorising_fractional_initial_values()\n",
    "        initial_initial_values()\n",
    "        negative_initial_values()\n",
    "    \n",
    "    \n",
    "    def fractional_initial_values():\n",
    "        expected = \"2/3\"\n",
    "        actual = str(Fraction(2,3))\n",
    "        assert expected == actual\n",
    "        \n",
    "        expected = \"9/2\"\n",
    "        actual = str(Fraction(9, 2))\n",
    "        assert expected == actual\n",
    "    \n",
    "    def factorising_fractional_initial_values():\n",
    "        expected = \"1/2\"\n",
    "        actual = str(Fraction(4,8))\n",
    "        assert expected == actual  \n",
    "        \n",
    "        expected = \"2/5\"\n",
    "        actual = str(Fraction(20,50))\n",
    "        assert expected == actual  \n",
    "        \n",
    "\n",
    "    def integer_initial_values():    \n",
    "        expected = \"6\"\n",
    "        actual = str(Fraction(6, 1))\n",
    "        assert expected == actual\n",
    "\n",
    "        expected = \"3\"\n",
    "        actual = str(Fraction(6, 2))\n",
    "        assert expected == actual\n",
    "\n",
    "        expected = \"1\"\n",
    "        actual = str(Fraction(3, 3))\n",
    "        assert expected == actual\n",
    "    \n",
    "    def negative_initial_values():\n",
    "        expected = \"-2/3\"\n",
    "        actual = str(Fraction(-2, 3))\n",
    "        assert expected == actual\n",
    "\n",
    "        expected = \"-2/3\"\n",
    "        actual = str(Fraction(2, -3))\n",
    "        assert expected == actual\n",
    "\n",
    "        expected = \"2/3\"\n",
    "        actual = str(Fraction(-2, -3))\n",
    "        assert expected == actual\n",
    "    \n",
    "    test()"
   ]
  },
  {
   "cell_type": "code",
   "execution_count": 319,
   "id": "b71cbdf3-be4f-47b7-9338-8ebd7d5cc593",
   "metadata": {
    "tags": []
   },
   "outputs": [
    {
     "name": "stdout",
     "output_type": "stream",
     "text": [
      "[]\n",
      "[]\n",
      "[3, 3]\n",
      "[]\n",
      "[2, 2]\n",
      "[2, 4]\n"
     ]
    },
    {
     "ename": "AssertionError",
     "evalue": "",
     "output_type": "error",
     "traceback": [
      "\u001b[1;31m---------------------------------------------------------------------------\u001b[0m",
      "\u001b[1;31mAssertionError\u001b[0m                            Traceback (most recent call last)",
      "Cell \u001b[1;32mIn[319], line 1\u001b[0m\n\u001b[1;32m----> 1\u001b[0m \u001b[43mFractionTests\u001b[49m\u001b[43m(\u001b[49m\u001b[43m)\u001b[49m\n",
      "Cell \u001b[1;32mIn[318], line 57\u001b[0m, in \u001b[0;36mFractionTests\u001b[1;34m()\u001b[0m\n\u001b[0;32m     54\u001b[0m     actual \u001b[38;5;241m=\u001b[39m \u001b[38;5;28mstr\u001b[39m(Fraction(\u001b[38;5;241m-\u001b[39m\u001b[38;5;241m2\u001b[39m, \u001b[38;5;241m-\u001b[39m\u001b[38;5;241m3\u001b[39m))\n\u001b[0;32m     55\u001b[0m     \u001b[38;5;28;01massert\u001b[39;00m expected \u001b[38;5;241m==\u001b[39m actual\n\u001b[1;32m---> 57\u001b[0m \u001b[43mtest\u001b[49m\u001b[43m(\u001b[49m\u001b[43m)\u001b[49m\n",
      "Cell \u001b[1;32mIn[318], line 7\u001b[0m, in \u001b[0;36mFractionTests.<locals>.test\u001b[1;34m()\u001b[0m\n\u001b[0;32m      5\u001b[0m \u001b[38;5;28;01mdef\u001b[39;00m \u001b[38;5;21mtest\u001b[39m():\n\u001b[0;32m      6\u001b[0m     fractional_initial_values()\n\u001b[1;32m----> 7\u001b[0m     \u001b[43mfactorising_fractional_initial_values\u001b[49m\u001b[43m(\u001b[49m\u001b[43m)\u001b[49m\n\u001b[0;32m      8\u001b[0m     initial_initial_values()\n\u001b[0;32m      9\u001b[0m     negative_initial_values()\n",
      "Cell \u001b[1;32mIn[318], line 24\u001b[0m, in \u001b[0;36mFractionTests.<locals>.factorising_fractional_initial_values\u001b[1;34m()\u001b[0m\n\u001b[0;32m     22\u001b[0m expected \u001b[38;5;241m=\u001b[39m \u001b[38;5;124m\"\u001b[39m\u001b[38;5;124m1/2\u001b[39m\u001b[38;5;124m\"\u001b[39m\n\u001b[0;32m     23\u001b[0m actual \u001b[38;5;241m=\u001b[39m \u001b[38;5;28mstr\u001b[39m(Fraction(\u001b[38;5;241m4\u001b[39m,\u001b[38;5;241m8\u001b[39m))\n\u001b[1;32m---> 24\u001b[0m \u001b[38;5;28;01massert\u001b[39;00m expected \u001b[38;5;241m==\u001b[39m actual  \n\u001b[0;32m     26\u001b[0m expected \u001b[38;5;241m=\u001b[39m \u001b[38;5;124m\"\u001b[39m\u001b[38;5;124m2/5\u001b[39m\u001b[38;5;124m\"\u001b[39m\n\u001b[0;32m     27\u001b[0m actual \u001b[38;5;241m=\u001b[39m \u001b[38;5;28mstr\u001b[39m(Fraction(\u001b[38;5;241m20\u001b[39m,\u001b[38;5;241m50\u001b[39m))\n",
      "\u001b[1;31mAssertionError\u001b[0m: "
     ]
    }
   ],
   "source": [
    "FractionTests()"
   ]
  },
  {
   "cell_type": "code",
   "execution_count": null,
   "id": "fbb0c939-40f8-46ac-9fcb-4ab91ee29869",
   "metadata": {
    "tags": []
   },
   "outputs": [],
   "source": []
  },
  {
   "cell_type": "code",
   "execution_count": null,
   "id": "44c75313-5cae-45fb-a99c-7f1828cfde9a",
   "metadata": {},
   "outputs": [],
   "source": []
  }
 ],
 "metadata": {
  "kernelspec": {
   "display_name": "Python 3 (ipykernel)",
   "language": "python",
   "name": "python3"
  },
  "language_info": {
   "codemirror_mode": {
    "name": "ipython",
    "version": 3
   },
   "file_extension": ".py",
   "mimetype": "text/x-python",
   "name": "python",
   "nbconvert_exporter": "python",
   "pygments_lexer": "ipython3",
   "version": "3.10.13"
  }
 },
 "nbformat": 4,
 "nbformat_minor": 5
}
